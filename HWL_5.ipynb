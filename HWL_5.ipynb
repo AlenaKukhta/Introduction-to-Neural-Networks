{
 "cells": [
  {
   "cell_type": "markdown",
   "id": "2ff81d52",
   "metadata": {},
   "source": [
    "# Практическое задание к уроку 5. Рекуррентные нейронные сети"
   ]
  },
  {
   "cell_type": "markdown",
   "id": "1436d4eb",
   "metadata": {},
   "source": [
    "1. Попробуйте обучить нейронную сеть LSTM на любом другом датасете (любимый временной ряд, текст на русском (другом языке) как генератор или классификатор, или прилагаемый набор airline-passengers - пасажиропоток для авиалиний). Опишите, какой результат вы получили? Что помогло вам улучшить ее точность?\n",
    "\n",
    "\n",
    "2. *Попробуйте на numpy реализовать нейронную сеть архитектуры LSTM\n",
    "\n",
    "\n",
    "3. *Предложите свои варианты решения проблемы исчезающего градиента в RNN"
   ]
  },
  {
   "cell_type": "code",
   "execution_count": null,
   "id": "7b1a0519",
   "metadata": {},
   "outputs": [],
   "source": [
    "!pip install --upgrade pip"
   ]
  },
  {
   "cell_type": "code",
   "execution_count": null,
   "id": "f205b79f",
   "metadata": {},
   "outputs": [],
   "source": [
    "!pip install tensorflow -latest"
   ]
  },
  {
   "cell_type": "code",
   "execution_count": null,
   "id": "b5ab8801",
   "metadata": {},
   "outputs": [],
   "source": [
    "!pip install --upgrade tensorflow"
   ]
  },
  {
   "cell_type": "code",
   "execution_count": null,
   "id": "be1d251c",
   "metadata": {},
   "outputs": [],
   "source": [
    "!pip install tensorflow_datasets"
   ]
  },
  {
   "cell_type": "code",
   "execution_count": null,
   "id": "1ef7e71a",
   "metadata": {},
   "outputs": [],
   "source": [
    "# !pip install --upgrade google-api-python-client\n",
    "# !pip install google-cloud"
   ]
  },
  {
   "cell_type": "code",
   "execution_count": null,
   "id": "039b8f8a",
   "metadata": {},
   "outputs": [],
   "source": [
    "# !pip install google-cloud-vision"
   ]
  },
  {
   "cell_type": "code",
   "execution_count": null,
   "id": "1371fe0d",
   "metadata": {},
   "outputs": [],
   "source": [
    "# !pip install google.cloud.bigquery"
   ]
  },
  {
   "cell_type": "code",
   "execution_count": null,
   "id": "ec57256e",
   "metadata": {},
   "outputs": [],
   "source": [
    "# !pip install google.cloud.storage"
   ]
  },
  {
   "cell_type": "code",
   "execution_count": null,
   "id": "2f9e2180",
   "metadata": {},
   "outputs": [],
   "source": [
    "# !pip install google"
   ]
  },
  {
   "cell_type": "code",
   "execution_count": null,
   "id": "4836928b",
   "metadata": {},
   "outputs": [],
   "source": [
    "# !pip install google.colab\n",
    "# !pip install google-colab"
   ]
  },
  {
   "cell_type": "code",
   "execution_count": null,
   "id": "0f3487e7",
   "metadata": {},
   "outputs": [],
   "source": [
    "import numpy as np\n",
    "import pandas as pd\n",
    "\n",
    "import matplotlib.pyplot as plt\n",
    "\n",
    "from tensorflow.keras.models import Sequential\n",
    "from tensorflow.keras.layers import Dense, LSTM\n",
    "from sklearn.preprocessing import MinMaxScaler\n",
    "\n",
    "from google.colab import drive\n",
    "drive.mount('drive')"
   ]
  },
  {
   "cell_type": "code",
   "execution_count": null,
   "id": "30d7a29e",
   "metadata": {},
   "outputs": [],
   "source": [
    "passengers_data = pd.read_csv(\"airline-passengers.csv\")\n",
    "passengers_data.head()"
   ]
  },
  {
   "cell_type": "code",
   "execution_count": null,
   "id": "97f957e2",
   "metadata": {},
   "outputs": [],
   "source": [
    "plt.plot(passengers_data['Passengers'])"
   ]
  },
  {
   "cell_type": "code",
   "execution_count": null,
   "id": "67bf6271",
   "metadata": {},
   "outputs": [],
   "source": [
    "dataset = passengers_data['Passengers']\n",
    "dataset = np.array(dataset).reshape(-1,1)\n",
    "dataset[:10]"
   ]
  },
  {
   "cell_type": "code",
   "execution_count": null,
   "id": "e6b45d46",
   "metadata": {},
   "outputs": [],
   "source": [
    "scaler = MinMaxScaler()\n",
    "dataset = scaler.fit_transform(dataset)\n",
    "dataset.min(),dataset.max()"
   ]
  },
  {
   "cell_type": "code",
   "execution_count": null,
   "id": "b2a0c998",
   "metadata": {},
   "outputs": [],
   "source": [
    "train_size = 100\n",
    "test_size = 44\n",
    "train = dataset[0:train_size, :]\n",
    "train.shape"
   ]
  },
  {
   "cell_type": "code",
   "execution_count": null,
   "id": "2a02259b",
   "metadata": {},
   "outputs": [],
   "source": [
    "test = dataset[train_size:144, :]\n",
    "test.shape"
   ]
  },
  {
   "cell_type": "code",
   "execution_count": null,
   "id": "392bd8fd",
   "metadata": {},
   "outputs": [],
   "source": [
    "def get_data(dataset, look_back):\n",
    "    dataX, dataY = [], []\n",
    "    for i in range(len(dataset)-look_back-1):\n",
    "        a = dataset[i:(i+look_back), 0]\n",
    "        dataX.append(a)\n",
    "        dataY.append(dataset[i+look_back, 0])\n",
    "    return np.array(dataX), np.array(dataY)"
   ]
  },
  {
   "cell_type": "code",
   "execution_count": null,
   "id": "cae7832a",
   "metadata": {},
   "outputs": [],
   "source": [
    "X_test, y_test = get_data(test, look_back)"
   ]
  },
  {
   "cell_type": "code",
   "execution_count": null,
   "id": "6f643f8c",
   "metadata": {},
   "outputs": [],
   "source": [
    "X_train = X_train.reshape(X_train.shape[0], X_train.shape[1], 1)\n",
    "X_test = X_test.reshape(X_test.shape[0], X_test.shape[1], 1)"
   ]
  },
  {
   "cell_type": "code",
   "execution_count": null,
   "id": "b3a8b6ee",
   "metadata": {},
   "outputs": [],
   "source": [
    "X_train.shape"
   ]
  },
  {
   "cell_type": "code",
   "execution_count": null,
   "id": "8870e867",
   "metadata": {},
   "outputs": [],
   "source": [
    "model = Sequential()\n",
    "model.add(LSTM(5, input_shape = (1, look_back)))\n",
    "model.add(Dense(1))\n",
    "model.compile(loss=\"mse\", optimizer=\"adam\", metrics=['mae'])"
   ]
  },
  {
   "cell_type": "code",
   "execution_count": null,
   "id": "138c88da",
   "metadata": {},
   "outputs": [],
   "source": [
    "model.summary()"
   ]
  },
  {
   "cell_type": "code",
   "execution_count": null,
   "id": "a1e1614c",
   "metadata": {},
   "outputs": [],
   "source": [
    "model.fit(X_train, y_train, epochs=25, batch_size=1)"
   ]
  },
  {
   "cell_type": "code",
   "execution_count": null,
   "id": "889226ad",
   "metadata": {},
   "outputs": [],
   "source": [
    "y_pred = model.predict(X_test)"
   ]
  },
  {
   "cell_type": "code",
   "execution_count": null,
   "id": "36c04537",
   "metadata": {},
   "outputs": [],
   "source": [
    "y_pred = scaler.inverse_transform(y_pred)\n",
    "y_test = np.array(y_test)\n",
    "y_test = y_test.reshape(-1, 1)\n",
    "y_test = scaler.inverse_transform(y_test)"
   ]
  },
  {
   "cell_type": "code",
   "execution_count": null,
   "id": "c7e38275",
   "metadata": {},
   "outputs": [],
   "source": [
    "plt.figure(figsize=(14,5))\n",
    "plt.plot(y_test, label = 'Real')\n",
    "plt.plot(y_pred, label = 'Predicted')\n",
    "plt.ylabel('passengers')\n",
    "plt.legend()\n",
    "plt.show()"
   ]
  },
  {
   "cell_type": "markdown",
   "id": "1b10eada",
   "metadata": {},
   "source": [
    "**Вывод:**\n",
    "Судя по сдвигу на графике, предсказания запаздывают. Увеличение количества эпох и сокращение количества слоев до 2 способствовало улучшению результата."
   ]
  }
 ],
 "metadata": {
  "kernelspec": {
   "display_name": "Python 3",
   "language": "python",
   "name": "python3"
  },
  "language_info": {
   "codemirror_mode": {
    "name": "ipython",
    "version": 3
   },
   "file_extension": ".py",
   "mimetype": "text/x-python",
   "name": "python",
   "nbconvert_exporter": "python",
   "pygments_lexer": "ipython3",
   "version": "3.8.12"
  }
 },
 "nbformat": 4,
 "nbformat_minor": 5
}
