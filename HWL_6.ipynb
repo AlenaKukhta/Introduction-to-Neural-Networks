{
 "cells": [
  {
   "cell_type": "markdown",
   "id": "82d22960",
   "metadata": {},
   "source": [
    "# Практическое задание к уроку 6. Сегментация\n",
    "\n",
    "1. Попробуйте обучить нейронную сеть U-Net на любом другом датасете. \n",
    "2. Опишите  результата. Что помогло повысить точность?\n",
    " \n",
    "3. *Попробуйте свои силы в задаче Carvana на Kaggle - https://www.kaggle.com/c/carvana-image-masking-challenge/overview4. \n",
    "4. *Сделайте свою реализацию U-Net на TensorFlow"
   ]
  },
  {
   "cell_type": "code",
   "execution_count": null,
   "id": "b5213029",
   "metadata": {},
   "outputs": [],
   "source": []
  }
 ],
 "metadata": {
  "kernelspec": {
   "display_name": "Python 3 (ipykernel)",
   "language": "python",
   "name": "python3"
  },
  "language_info": {
   "codemirror_mode": {
    "name": "ipython",
    "version": 3
   },
   "file_extension": ".py",
   "mimetype": "text/x-python",
   "name": "python",
   "nbconvert_exporter": "python",
   "pygments_lexer": "ipython3",
   "version": "3.9.7"
  }
 },
 "nbformat": 4,
 "nbformat_minor": 5
}
