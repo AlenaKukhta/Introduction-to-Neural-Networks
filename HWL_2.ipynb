{
  "cells": [
    {
      "cell_type": "markdown",
      "id": "5a0072e9",
      "metadata": {
        "id": "5a0072e9"
      },
      "source": [
        "# Практическое задание к уроку 2. Keras"
      ]
    },
    {
      "cell_type": "markdown",
      "id": "bb0e646a",
      "metadata": {
        "id": "bb0e646a"
      },
      "source": [
        "Используем набор примеров fashion-MNIST\n",
        "\n",
        "1.  Опишите - какой результата получен в нейросети в зависимости от:\n",
        "  -  числа нейронов в слое(для 2-хслойной сети), \n",
        "  - числа слоев (2, 3, 5, 10) при близких размерах сети (близкое число тренируемых парметров).\n",
        "  - фиксируйте для тренировочного и тестового набора метрики accuracy.\n",
        "\n",
        "\n",
        "2.  Проверьте работу разных оптимизаторов (SGD, Adam, RMSProp) для одной из моделей п.1.\n",
        "\n",
        "   Фиксируйте для тренировочного и тестового набора метрики accuracy.\n",
        "\n",
        "\n",
        "3. Сделайте вывод - что помогло вам улучшить качество классификации в нейросети на тестовом наборе? \n",
        "\n",
        "\n",
        "4. Для одного варианта сетей сформируйте матрицу ошибок по классам. Оцените качество модели по каждому классу отдельно (полнота , точность). Сделайте вывод."
      ]
    },
    {
      "cell_type": "markdown",
      "source": [
        "# conda install-c conda-forge mnist"
      ],
      "metadata": {
        "id": "bd938003"
      },
      "id": "bd938003"
    },
    {
      "cell_type": "code",
      "source": [
        "!pip install mnist"
      ],
      "metadata": {
        "colab": {
          "base_uri": "https://localhost:8080/"
        },
        "id": "OhXEEYaNXQfk",
        "outputId": "02c612dd-0028-4022-eefe-15be7deb599b"
      },
      "id": "OhXEEYaNXQfk",
      "execution_count": 1,
      "outputs": [
        {
          "output_type": "stream",
          "name": "stdout",
          "text": [
            "Requirement already satisfied: mnist in /usr/local/lib/python3.7/dist-packages (0.2.2)\n",
            "Requirement already satisfied: numpy in /usr/local/lib/python3.7/dist-packages (from mnist) (1.19.5)\n"
          ]
        }
      ]
    },
    {
      "cell_type": "code",
      "source": [
        "!pip install keras"
      ],
      "metadata": {
        "colab": {
          "base_uri": "https://localhost:8080/"
        },
        "id": "fBNMVq7aYKYg",
        "outputId": "d11286a1-3210-4e3b-8d8a-92550e383a54"
      },
      "id": "fBNMVq7aYKYg",
      "execution_count": 2,
      "outputs": [
        {
          "output_type": "stream",
          "name": "stdout",
          "text": [
            "Requirement already satisfied: keras in /usr/local/lib/python3.7/dist-packages (2.7.0)\n"
          ]
        }
      ]
    },
    {
      "cell_type": "code",
      "execution_count": 3,
      "id": "571dd3dc",
      "metadata": {
        "id": "571dd3dc"
      },
      "outputs": [],
      "source": [
        "import numpy as np\n",
        "import mnist\n",
        "\n",
        "#import tf.kears as keras\n",
        "import keras\n",
        "from keras.datasets import mnist, boston_housing, fashion_mnist  # наборы для работы\n",
        "\n",
        "from keras.models import Sequential\n",
        "from keras.layers import Dense\n",
        "# from keras.utils import to_categorical\n",
        "from tensorflow.keras.utils import to_categorical\n",
        "from sklearn.metrics import roc_curve, auc, roc_auc_score, ConfusionMatrixDisplay\n",
        "\n",
        "# import tensorflow as tf\n",
        "\n",
        "import matplotlib.pyplot as plt"
      ]
    },
    {
      "cell_type": "code",
      "source": [
        "fashion_mnist = keras.datasets.fashion_mnist\n",
        "\n",
        "(train_images, train_labels), (test_images, test_labels) = fashion_mnist.load_data()"
      ],
      "metadata": {
        "id": "SNO84m9sn5d7"
      },
      "id": "SNO84m9sn5d7",
      "execution_count": 4,
      "outputs": []
    },
    {
      "cell_type": "code",
      "source": [
        "plt.imshow(train_images[11,:,:])\n",
        "plt.show()"
      ],
      "metadata": {
        "colab": {
          "base_uri": "https://localhost:8080/",
          "height": 265
        },
        "id": "b-nINyFPhSGN",
        "outputId": "ffacfe00-a92d-4798-e80f-5a0a294429c7"
      },
      "id": "b-nINyFPhSGN",
      "execution_count": 5,
      "outputs": [
        {
          "output_type": "display_data",
          "data": {
            "image/png": "[encoded data removed]",
            "text/plain": [
              "<Figure size 432x288 with 1 Axes>"
            ]
          },
          "metadata": {
            "needs_background": "light"
          }
        }
      ]
    },
    {
      "cell_type": "code",
      "source": [
        "print(train_images.shape) # (60000, 28, 28)\n",
        "print(train_labels.shape) # (60000,)"
      ],
      "metadata": {
        "colab": {
          "base_uri": "https://localhost:8080/"
        },
        "id": "AC4iSq-ksv9i",
        "outputId": "b62c92fe-a6fc-403d-812e-d8e5e819efa9"
      },
      "id": "AC4iSq-ksv9i",
      "execution_count": 6,
      "outputs": [
        {
          "output_type": "stream",
          "name": "stdout",
          "text": [
            "(60000, 28, 28)\n",
            "(60000,)\n"
          ]
        }
      ]
    },
    {
      "cell_type": "code",
      "source": [
        "train_images = (train_images / 255) - 0.5\n",
        "test_images = (test_images / 255) - 0.5\n",
        "\n",
        "train_images = train_images.reshape((-1, 784))\n",
        "test_images = test_images.reshape((-1, 784))"
      ],
      "metadata": {
        "id": "zxhqmJnhXPf9"
      },
      "id": "zxhqmJnhXPf9",
      "execution_count": 7,
      "outputs": []
    },
    {
      "cell_type": "code",
      "execution_count": 8,
      "id": "fa44a336",
      "metadata": {
        "colab": {
          "base_uri": "https://localhost:8080/"
        },
        "id": "fa44a336",
        "outputId": "baf6087d-919c-4a23-bdb6-46bc6884ef75"
      },
      "outputs": [
        {
          "output_type": "stream",
          "name": "stdout",
          "text": [
            "Epoch 1/10\n",
            "1875/1875 [==============================] - 14s 7ms/step - loss: 0.5077 - accuracy: 0.8159 - auc: 0.9844\n",
            "Epoch 2/10\n",
            "1875/1875 [==============================] - 10s 5ms/step - loss: 0.3780 - accuracy: 0.8610 - auc: 0.9907\n",
            "Epoch 3/10\n",
            "1875/1875 [==============================] - 8s 4ms/step - loss: 0.3389 - accuracy: 0.8749 - auc: 0.9924\n",
            "Epoch 4/10\n",
            "1875/1875 [==============================] - 8s 4ms/step - loss: 0.3127 - accuracy: 0.8854 - auc: 0.9933\n",
            "Epoch 5/10\n",
            "1875/1875 [==============================] - 7s 4ms/step - loss: 0.2928 - accuracy: 0.8922 - auc: 0.9940\n",
            "Epoch 6/10\n",
            "1875/1875 [==============================] - 8s 4ms/step - loss: 0.2777 - accuracy: 0.8962 - auc: 0.9945\n",
            "Epoch 7/10\n",
            "1875/1875 [==============================] - 8s 4ms/step - loss: 0.2636 - accuracy: 0.9025 - auc: 0.9950\n",
            "Epoch 8/10\n",
            "1875/1875 [==============================] - 8s 4ms/step - loss: 0.2566 - accuracy: 0.9038 - auc: 0.9952\n",
            "Epoch 9/10\n",
            "1875/1875 [==============================] - 7s 4ms/step - loss: 0.2416 - accuracy: 0.9089 - auc: 0.9956\n",
            "Epoch 10/10\n",
            "1875/1875 [==============================] - 8s 4ms/step - loss: 0.2332 - accuracy: 0.9126 - auc: 0.9961\n"
          ]
        },
        {
          "output_type": "execute_result",
          "data": {
            "text/plain": [
              "<keras.callbacks.History at 0x7ff482083a50>"
            ]
          },
          "metadata": {},
          "execution_count": 8
        }
      ],
      "source": [
        "model = Sequential([\n",
        "  Dense(256, activation='relu', input_shape=(784,)), # входной слой + поносвязный слой из 256 нейронов с активацией ReLU\n",
        "  Dense(128, activation='relu'),\n",
        "  Dense(64, activation='relu'),\n",
        "  Dense(32, activation='relu'),\n",
        "  Dense(10, activation='softmax'),\n",
        "])\n",
        "\n",
        "model.compile(\n",
        "  optimizer='adam',\n",
        "  loss='categorical_crossentropy',\n",
        "  metrics=['accuracy','AUC'],\n",
        ")\n",
        "\n",
        "model.fit(\n",
        "  train_images,\n",
        "  to_categorical(train_labels),\n",
        "  epochs=10, # эпохи\n",
        "  batch_size=32,\n",
        ")"
      ]
    },
    {
      "cell_type": "code",
      "execution_count": 9,
      "id": "56687832",
      "metadata": {
        "colab": {
          "base_uri": "https://localhost:8080/"
        },
        "id": "56687832",
        "outputId": "37491a5c-0210-433e-ab80-4bce75f9a522"
      },
      "outputs": [
        {
          "output_type": "stream",
          "name": "stdout",
          "text": [
            "313/313 [==============================] - 1s 2ms/step - loss: 0.3419 - accuracy: 0.8824 - auc: 0.9907\n"
          ]
        }
      ],
      "source": [
        "model.evaluate(\n",
        "  test_images,\n",
        "  to_categorical(test_labels)\n",
        ")\n",
        "\n",
        "model.save_weights('model.h5')"
      ]
    },
    {
      "cell_type": "code",
      "source": [
        "y_predi = model(test_images[:,:])\n",
        "np.argmax(y_predi, axis=1)"
      ],
      "metadata": {
        "colab": {
          "base_uri": "https://localhost:8080/"
        },
        "id": "ivYlHYxF-3W-",
        "outputId": "5ade14f4-bed3-4298-fc23-dd1f060249fe"
      },
      "id": "ivYlHYxF-3W-",
      "execution_count": 10,
      "outputs": [
        {
          "output_type": "execute_result",
          "data": {
            "text/plain": [
              "array([9, 2, 1, ..., 8, 1, 5])"
            ]
          },
          "metadata": {},
          "execution_count": 10
        }
      ]
    },
    {
      "cell_type": "code",
      "source": [
        "yy = np.argmax(y_predi, axis=1)\n",
        "np.where(test_labels != yy)[0]"
      ],
      "metadata": {
        "colab": {
          "base_uri": "https://localhost:8080/"
        },
        "id": "XZwQc4UR_W0K",
        "outputId": "99263855-4740-4c5b-fba0-fcd78bbf2e59"
      },
      "id": "XZwQc4UR_W0K",
      "execution_count": 13,
      "outputs": [
        {
          "output_type": "execute_result",
          "data": {
            "text/plain": [
              "array([  12,   17,   23, ..., 9972, 9977, 9979])"
            ]
          },
          "metadata": {},
          "execution_count": 13
        }
      ]
    },
    {
      "cell_type": "code",
      "source": [
        "# ConfusionMatrixDisplay.from_estimator(model.h5,y_predi)\n",
        "# plt.show()"
      ],
      "metadata": {
        "id": "YZuYnuMMATtP"
      },
      "id": "YZuYnuMMATtP",
      "execution_count": 12,
      "outputs": []
    },
    {
      "cell_type": "markdown",
      "id": "28f0e8c9",
      "metadata": {
        "id": "28f0e8c9"
      },
      "source": [
        "**Выводы:**\n",
        "\n",
        "1. БOльшая точность достигается в эксперементах со слоями и эпохами.\n",
        "\n",
        "2. Точность меняется от перезапуска модели из-за изменения случайных весов и локального минимума модели при обучении.\n",
        "\n",
        "3. Из документации:\n",
        "\n",
        "- при помощи tf.keras.callbacks расширяется поведение модели.\n",
        "\n",
        "- возможно определение своих функций потерь и метрики.\n",
        "\n",
        "- наличие возможности задавать веса и смещения."
      ]
    }
  ],
  "metadata": {
    "kernelspec": {
      "display_name": "Python 3 (ipykernel)",
      "language": "python",
      "name": "python3"
    },
    "language_info": {
      "codemirror_mode": {
        "name": "ipython",
        "version": 3
      },
      "file_extension": ".py",
      "mimetype": "text/x-python",
      "name": "python",
      "nbconvert_exporter": "python",
      "pygments_lexer": "ipython3",
      "version": "3.8.12"
    },
    "colab": {
      "name": "HWL_2.ipynb",
      "provenance": [],
      "collapsed_sections": []
    }
  },
  "nbformat": 4,
  "nbformat_minor": 5
}