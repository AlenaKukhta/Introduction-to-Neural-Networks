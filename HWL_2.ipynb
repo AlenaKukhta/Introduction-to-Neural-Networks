{
 "cells": [
  {
   "cell_type": "markdown",
   "id": "5a0072e9",
   "metadata": {
    "id": "5a0072e9"
   },
   "source": [
    "# Практическое задание к уроку 2. Keras"
   ]
  },
  {
   "cell_type": "markdown",
   "id": "bb0e646a",
   "metadata": {
    "id": "bb0e646a"
   },
   "source": [
    "Используем набор примеров fashion-MNIST\n",
    "\n",
    "1.  Опишите - какой результата получен в нейросети в зависимости от:\n",
    "  -  числа нейронов в слое(для 2-хслойной сети), \n",
    "  - числа слоев (2, 3, 5, 10) при близких размерах сети (близкое число тренируемых парметров).\n",
    "  - фиксируйте для тренировочного и тестового набора метрики accuracy.\n",
    "\n",
    "\n",
    "2.  Проверьте работу разных оптимизаторов (SGD, Adam, RMSProp) для одной из моделей п.1.\n",
    "\n",
    "   Фиксируйте для тренировочного и тестового набора метрики accuracy.\n",
    "\n",
    "\n",
    "3. Сделайте вывод - что помогло вам улучшить качество классификации в нейросети на тестовом наборе? \n",
    "\n",
    "\n",
    "4. Для одного варианта сетей сформируйте матрицу ошибок по классам. Оцените качество модели по каждому классу отдельно (полнота , точность). Сделайте вывод."
   ]
  },
  {
   "cell_type": "markdown",
   "id": "bd938003",
   "metadata": {
    "id": "bd938003"
   },
   "source": [
    "# conda install-c conda-forge mnist"
   ]
  },
  {
   "cell_type": "code",
   "execution_count": 1,
   "id": "OhXEEYaNXQfk",
   "metadata": {
    "colab": {
     "base_uri": "https://localhost:8080/"
    },
    "id": "OhXEEYaNXQfk",
    "outputId": "02c612dd-0028-4022-eefe-15be7deb599b"
   },
   "outputs": [
    {
     "name": "stdout",
     "output_type": "stream",
     "text": [
      "Collecting mnist\n",
      "  Downloading mnist-0.2.2-py2.py3-none-any.whl (3.5 kB)\n",
      "Requirement already satisfied: numpy in /Users/alenakukhta/opt/anaconda3/lib/python3.9/site-packages (from mnist) (1.20.3)\n",
      "Installing collected packages: mnist\n",
      "Successfully installed mnist-0.2.2\n"
     ]
    }
   ],
   "source": [
    "!pip install mnist"
   ]
  },
  {
   "cell_type": "code",
   "execution_count": 2,
   "id": "fBNMVq7aYKYg",
   "metadata": {
    "colab": {
     "base_uri": "https://localhost:8080/"
    },
    "id": "fBNMVq7aYKYg",
    "outputId": "d11286a1-3210-4e3b-8d8a-92550e383a54"
   },
   "outputs": [
    {
     "name": "stdout",
     "output_type": "stream",
     "text": [
      "Requirement already satisfied: keras in /Users/alenakukhta/opt/anaconda3/lib/python3.9/site-packages (2.7.0)\r\n"
     ]
    }
   ],
   "source": [
    "!pip install keras"
   ]
  },
  {
   "cell_type": "code",
   "execution_count": 3,
   "id": "571dd3dc",
   "metadata": {
    "id": "571dd3dc"
   },
   "outputs": [],
   "source": [
    "import numpy as np\n",
    "import mnist\n",
    "\n",
    "#import tf.kears as keras\n",
    "import keras\n",
    "from keras.datasets import mnist, boston_housing, fashion_mnist  # наборы для работы\n",
    "\n",
    "from keras.models import Sequential\n",
    "from keras.layers import Dense\n",
    "# from keras.utils import to_categorical\n",
    "from tensorflow.keras.utils import to_categorical\n",
    "from sklearn.metrics import roc_curve, auc, roc_auc_score, confusion_matrix, ConfusionMatrixDisplay\n",
    "\n",
    "# import tensorflow as tf\n",
    "\n",
    "import matplotlib.pyplot as plt"
   ]
  },
  {
   "cell_type": "code",
   "execution_count": 4,
   "id": "SNO84m9sn5d7",
   "metadata": {
    "id": "SNO84m9sn5d7"
   },
   "outputs": [],
   "source": [
    "fashion_mnist = keras.datasets.fashion_mnist\n",
    "\n",
    "(train_images, train_labels), (test_images, test_labels) = fashion_mnist.load_data()"
   ]
  },
  {
   "cell_type": "code",
   "execution_count": 5,
   "id": "b-nINyFPhSGN",
   "metadata": {
    "colab": {
     "base_uri": "https://localhost:8080/",
     "height": 265
    },
    "id": "b-nINyFPhSGN",
    "outputId": "ffacfe00-a92d-4798-e80f-5a0a294429c7"
   },
   "outputs": [
    {
     "data": {
      "image/png": "[encoded data removed]",
      "text/plain": [
       "<Figure size 432x288 with 1 Axes>"
      ]
     },
     "metadata": {
      "needs_background": "light"
     },
     "output_type": "display_data"
    }
   ],
   "source": [
    "plt.imshow(train_images[11,:,:])\n",
    "plt.show()"
   ]
  },
  {
   "cell_type": "code",
   "execution_count": 6,
   "id": "AC4iSq-ksv9i",
   "metadata": {
    "colab": {
     "base_uri": "https://localhost:8080/"
    },
    "id": "AC4iSq-ksv9i",
    "outputId": "b62c92fe-a6fc-403d-812e-d8e5e819efa9"
   },
   "outputs": [
    {
     "name": "stdout",
     "output_type": "stream",
     "text": [
      "(60000, 28, 28)\n",
      "(60000,)\n"
     ]
    }
   ],
   "source": [
    "print(train_images.shape) # (60000, 28, 28)\n",
    "print(train_labels.shape) # (60000,)"
   ]
  },
  {
   "cell_type": "code",
   "execution_count": 7,
   "id": "zxhqmJnhXPf9",
   "metadata": {
    "id": "zxhqmJnhXPf9"
   },
   "outputs": [],
   "source": [
    "train_images = (train_images / 255) - 0.5\n",
    "test_images = (test_images / 255) - 0.5\n",
    "\n",
    "train_images = train_images.reshape((-1, 784))\n",
    "test_images = test_images.reshape((-1, 784))"
   ]
  },
  {
   "cell_type": "code",
   "execution_count": 8,
   "id": "fa44a336",
   "metadata": {
    "colab": {
     "base_uri": "https://localhost:8080/"
    },
    "id": "fa44a336",
    "outputId": "baf6087d-919c-4a23-bdb6-46bc6884ef75"
   },
   "outputs": [
    {
     "name": "stdout",
     "output_type": "stream",
     "text": [
      "Epoch 1/10\n"
     ]
    },
    {
     "name": "stderr",
     "output_type": "stream",
     "text": [
      "2022-01-05 21:17:29.173430: I tensorflow/core/platform/cpu_feature_guard.cc:151] This TensorFlow binary is optimized with oneAPI Deep Neural Network Library (oneDNN) to use the following CPU instructions in performance-critical operations:  AVX2 FMA\n",
      "To enable them in other operations, rebuild TensorFlow with the appropriate compiler flags.\n"
     ]
    },
    {
     "name": "stdout",
     "output_type": "stream",
     "text": [
      "1875/1875 [==============================] - 4s 2ms/step - loss: 0.5007 - accuracy: 0.8158 - auc: 0.9847\n",
      "Epoch 2/10\n",
      "1875/1875 [==============================] - 3s 2ms/step - loss: 0.3768 - accuracy: 0.8612 - auc: 0.9907\n",
      "Epoch 3/10\n",
      "1875/1875 [==============================] - 4s 2ms/step - loss: 0.3424 - accuracy: 0.8730 - auc: 0.9922\n",
      "Epoch 4/10\n",
      "1875/1875 [==============================] - 4s 2ms/step - loss: 0.3153 - accuracy: 0.8837 - auc: 0.9933\n",
      "Epoch 5/10\n",
      "1875/1875 [==============================] - 4s 2ms/step - loss: 0.2960 - accuracy: 0.8905 - auc: 0.9941\n",
      "Epoch 6/10\n",
      "1875/1875 [==============================] - 4s 2ms/step - loss: 0.2806 - accuracy: 0.8969 - auc: 0.9944\n",
      "Epoch 7/10\n",
      "1875/1875 [==============================] - 4s 2ms/step - loss: 0.2677 - accuracy: 0.9005 - auc: 0.9951\n",
      "Epoch 8/10\n",
      "1875/1875 [==============================] - 5s 2ms/step - loss: 0.2548 - accuracy: 0.9046 - auc: 0.9955\n",
      "Epoch 9/10\n",
      "1875/1875 [==============================] - 4s 2ms/step - loss: 0.2421 - accuracy: 0.9095 - auc: 0.9958\n",
      "Epoch 10/10\n",
      "1875/1875 [==============================] - 4s 2ms/step - loss: 0.2333 - accuracy: 0.9125 - auc: 0.9960\n"
     ]
    },
    {
     "data": {
      "text/plain": [
       "<keras.callbacks.History at 0x7fa991ac2eb0>"
      ]
     },
     "execution_count": 8,
     "metadata": {},
     "output_type": "execute_result"
    }
   ],
   "source": [
    "model = Sequential([\n",
    "  Dense(256, activation='relu', input_shape=(784,)), # входной слой + поносвязный слой из 256 нейронов с активацией ReLU\n",
    "  Dense(128, activation='relu'),\n",
    "  Dense(64, activation='relu'),\n",
    "  Dense(32, activation='relu'),\n",
    "  Dense(10, activation='softmax'),\n",
    "])\n",
    "\n",
    "model.compile(\n",
    "  optimizer='adam',\n",
    "  loss='categorical_crossentropy',\n",
    "  metrics=['accuracy','AUC'],\n",
    ")\n",
    "\n",
    "model.fit(\n",
    "  train_images,\n",
    "  to_categorical(train_labels),\n",
    "  epochs=10, # эпохи\n",
    "  batch_size=32,\n",
    ")"
   ]
  },
  {
   "cell_type": "code",
   "execution_count": 9,
   "id": "56687832",
   "metadata": {
    "colab": {
     "base_uri": "https://localhost:8080/"
    },
    "id": "56687832",
    "outputId": "37491a5c-0210-433e-ab80-4bce75f9a522"
   },
   "outputs": [
    {
     "name": "stdout",
     "output_type": "stream",
     "text": [
      "313/313 [==============================] - 1s 1ms/step - loss: 0.3459 - accuracy: 0.8850 - auc: 0.9904\n"
     ]
    }
   ],
   "source": [
    "model.evaluate(\n",
    "  test_images,\n",
    "  to_categorical(test_labels)\n",
    ")\n",
    "\n",
    "model.save_weights('model.h5')"
   ]
  },
  {
   "cell_type": "code",
   "execution_count": 10,
   "id": "ivYlHYxF-3W-",
   "metadata": {
    "colab": {
     "base_uri": "https://localhost:8080/"
    },
    "id": "ivYlHYxF-3W-",
    "outputId": "5ade14f4-bed3-4298-fc23-dd1f060249fe"
   },
   "outputs": [
    {
     "data": {
      "text/plain": [
       "array([9, 2, 1, ..., 8, 1, 5])"
      ]
     },
     "execution_count": 10,
     "metadata": {},
     "output_type": "execute_result"
    }
   ],
   "source": [
    "y_predi = model(test_images[:,:])\n",
    "np.argmax(y_predi, axis=1)"
   ]
  },
  {
   "cell_type": "code",
   "execution_count": 11,
   "id": "XZwQc4UR_W0K",
   "metadata": {
    "colab": {
     "base_uri": "https://localhost:8080/"
    },
    "id": "XZwQc4UR_W0K",
    "outputId": "99263855-4740-4c5b-fba0-fcd78bbf2e59"
   },
   "outputs": [
    {
     "data": {
      "text/plain": [
       "array([  12,   17,   23, ..., 9977, 9979, 9985])"
      ]
     },
     "execution_count": 11,
     "metadata": {},
     "output_type": "execute_result"
    }
   ],
   "source": [
    "yy = np.argmax(y_predi, axis=1)\n",
    "np.where(test_labels != yy)[0]"
   ]
  },
  {
   "cell_type": "code",
   "execution_count": 14,
   "id": "5d65af05",
   "metadata": {},
   "outputs": [
    {
     "name": "stdout",
     "output_type": "stream",
     "text": [
      "[[860   1  10  24   6   5  87   0   7   0]\n",
      " [  5 970   3  16   3   0   1   1   1   0]\n",
      " [ 16   0 838   9  75   2  57   0   3   0]\n",
      " [ 24  17   7 875  53   1  20   0   3   0]\n",
      " [  1   0  92  20 837   2  48   0   0   0]\n",
      " [  0   0   0   1   0 969   0  22   0   8]\n",
      " [135   4  88  27  70   3 662   0  11   0]\n",
      " [  0   0   0   0   0  32   0 952   0  16]\n",
      " [  4   1   5  11   5   9   5   4 956   0]\n",
      " [  0   0   0   0   0  21   0  48   0 931]]\n"
     ]
    }
   ],
   "source": [
    "CM = confusion_matrix(test_labels,yy)\n",
    "print(CM)"
   ]
  },
  {
   "cell_type": "code",
   "execution_count": 15,
   "id": "YZuYnuMMATtP",
   "metadata": {
    "id": "YZuYnuMMATtP"
   },
   "outputs": [
    {
     "data": {
      "image/png": "[encoded data removed]",
      "text/plain": [
       "<Figure size 432x288 with 2 Axes>"
      ]
     },
     "metadata": {
      "needs_background": "light"
     },
     "output_type": "display_data"
    }
   ],
   "source": [
    "# ConfusionMatrixDisplay.from_estimator(model.h5,y_predi)\n",
    "# plt.show()\n",
    "\n",
    "disp = ConfusionMatrixDisplay(confusion_matrix=CM, display_labels=np.arange(10))\n",
    "\n",
    "disp.plot( values_format ='.3g')\n",
    "plt.show()"
   ]
  },
  {
   "cell_type": "markdown",
   "id": "28f0e8c9",
   "metadata": {
    "id": "28f0e8c9"
   },
   "source": [
    "**Выводы:**\n",
    "\n",
    "1. БOльшая точность достигается в эксперементах со слоями и эпохами.\n",
    "\n",
    "2. Точность меняется от перезапуска модели из-за изменения случайных весов и локального минимума модели при обучении.\n",
    "\n",
    "3. Из документации:\n",
    "\n",
    "- при помощи tf.keras.callbacks расширяется поведение модели.\n",
    "\n",
    "- возможно определение своих функций потерь и метрики.\n",
    "\n",
    "- наличие возможности задавать веса и смещения."
   ]
  }
 ],
 "metadata": {
  "colab": {
   "collapsed_sections": [],
   "name": "HWL_2.ipynb",
   "provenance": []
  },
  "kernelspec": {
   "display_name": "Python 3 (ipykernel)",
   "language": "python",
   "name": "python3"
  },
  "language_info": {
   "codemirror_mode": {
    "name": "ipython",
    "version": 3
   },
   "file_extension": ".py",
   "mimetype": "text/x-python",
   "name": "python",
   "nbconvert_exporter": "python",
   "pygments_lexer": "ipython3",
   "version": "3.9.7"
  }
 },
 "nbformat": 4,
 "nbformat_minor": 5
}
